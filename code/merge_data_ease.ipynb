{
 "cells": [
  {
   "cell_type": "code",
   "execution_count": 1,
   "id": "f5f028f8-5459-4230-a071-e041edc4024f",
   "metadata": {},
   "outputs": [],
   "source": [
    "import cmocean\n",
    "import numpy as np\n",
    "import xarray as xr\n",
    "import matplotlib.pyplot as plt"
   ]
  },
  {
   "cell_type": "code",
   "execution_count": null,
   "id": "87e797bd-b89a-4114-96cf-db3402eae939",
   "metadata": {},
   "outputs": [],
   "source": [
    "ds_list = []\n",
    "ds_names = [\"bathymetry_with_gradients_filter50_ease\", \"mean_dynamic_topography_dtu_ease\", \"mean_dynamic_topography_cnes_ease\",\n",
    "            \""
   ]
  }
 ],
 "metadata": {
  "kernelspec": {
   "display_name": "Python 3 (ipykernel)",
   "language": "python",
   "name": "python3"
  },
  "language_info": {
   "codemirror_mode": {
    "name": "ipython",
    "version": 3
   },
   "file_extension": ".py",
   "mimetype": "text/x-python",
   "name": "python",
   "nbconvert_exporter": "python",
   "pygments_lexer": "ipython3",
   "version": "3.11.11"
  }
 },
 "nbformat": 4,
 "nbformat_minor": 5
}
